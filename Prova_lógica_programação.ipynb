{
  "nbformat": 4,
  "nbformat_minor": 0,
  "metadata": {
    "colab": {
      "provenance": []
    },
    "kernelspec": {
      "name": "python3",
      "display_name": "Python 3"
    },
    "language_info": {
      "name": "python"
    }
  },
  "cells": [
    {
      "cell_type": "code",
      "execution_count": 1,
      "metadata": {
        "colab": {
          "base_uri": "https://localhost:8080/"
        },
        "id": "doP1VP12q39J",
        "outputId": "6426b4a8-1fdc-4a96-a57e-9538d27de38a"
      },
      "outputs": [
        {
          "output_type": "stream",
          "name": "stdout",
          "text": [
            "Digite o primeiro número: 5\n",
            "Digite o segundo número: 2\n",
            "Digite o terceiro número: 7\n",
            "Os números em ordem crescente são: 2 5 7\n"
          ]
        }
      ],
      "source": [
        "num1 = int(input(\"Digite o primeiro número: \"))\n",
        "num2 = int(input(\"Digite o segundo número: \"))\n",
        "num3 = int(input(\"Digite o terceiro número: \"))\n",
        "\n",
        "menor = min(num1, num2, num3)\n",
        "maior = max(num1, num2, num3)\n",
        "meio = (num1 + num2 + num3) - menor - maior\n",
        "\n",
        "print(\"Os números em ordem crescente são:\", menor, meio, maior)"
      ]
    },
    {
      "cell_type": "code",
      "source": [
        "for i in range(100):\n",
        "    print(i, end=' ' if i % 10 != 9 else '\\n')"
      ],
      "metadata": {
        "colab": {
          "base_uri": "https://localhost:8080/"
        },
        "id": "eUmD15oawwcR",
        "outputId": "227e4a8a-a264-4c6a-cb6e-08bec7e99b2a"
      },
      "execution_count": null,
      "outputs": [
        {
          "output_type": "stream",
          "name": "stdout",
          "text": [
            "0 1 2 3 4 5 6 7 8 9\n",
            "10 11 12 13 14 15 16 17 18 19\n",
            "20 21 22 23 24 25 26 27 28 29\n",
            "30 31 32 33 34 35 36 37 38 39\n",
            "40 41 42 43 44 45 46 47 48 49\n",
            "50 51 52 53 54 55 56 57 58 59\n",
            "60 61 62 63 64 65 66 67 68 69\n",
            "70 71 72 73 74 75 76 77 78 79\n",
            "80 81 82 83 84 85 86 87 88 89\n",
            "90 91 92 93 94 95 96 97 98 99\n"
          ]
        }
      ]
    },
    {
      "cell_type": "code",
      "source": [
        "nome = input(\"Digite o nome do convidado: \")\n",
        "\n",
        "if nome and len(nome) <= 120:\n",
        "    print(f\"Seja muito bem-vindo {nome}!\")\n",
        "else:\n",
        "    print(\"Nome inválido. Por favor, digite um nome com até 120 caracteres.\")"
      ],
      "metadata": {
        "colab": {
          "base_uri": "https://localhost:8080/"
        },
        "id": "6NmAYkoryI_R",
        "outputId": "9eb6d796-096a-4134-d3b0-425026092b93"
      },
      "execution_count": null,
      "outputs": [
        {
          "output_type": "stream",
          "name": "stdout",
          "text": [
            "Digite o nome do convidado: Victor Fernandes\n",
            "Seja muito bem-vindo Victor Fernandes!\n"
          ]
        }
      ]
    },
    {
      "cell_type": "code",
      "source": [
        "def eh_primo(numero):\n",
        "    if numero <= 1:\n",
        "        return False\n",
        "    for i in range(2, int(numero**0.5) + 1):\n",
        "        if numero % i == 0:\n",
        "            return False\n",
        "    return True\n",
        "\n",
        "numero = int(input(\"Digite um número inteiro: \"))\n",
        "\n",
        "if eh_primo(numero):\n",
        "    print(\"Número Primo\")\n",
        "else:\n",
        "    print(\"Número não é Primo\")"
      ],
      "metadata": {
        "colab": {
          "base_uri": "https://localhost:8080/"
        },
        "id": "E--6GtR-zCoD",
        "outputId": "fa001894-9902-46cf-bd7a-263b7eb915e7"
      },
      "execution_count": null,
      "outputs": [
        {
          "output_type": "stream",
          "name": "stdout",
          "text": [
            "Digite um número inteiro: 7\n",
            "Número Primo\n"
          ]
        }
      ]
    },
    {
      "cell_type": "code",
      "source": [
        "n = int(input())\n",
        "notas = []\n",
        "for _ in range(n):\n",
        "    notas.append(float(input()))\n",
        "\n",
        "media = sum(notas) / n\n",
        "\n",
        "acima = 0\n",
        "abaixo = 0\n",
        "\n",
        "limite_acima = media * 1.10\n",
        "limite_abaixo = media * 0.90\n",
        "\n",
        "for nota in notas:\n",
        "    if nota > limite_acima:\n",
        "        acima += 1\n",
        "    elif nota < limite_abaixo:\n",
        "        abaixo += 1\n",
        "\n",
        "print(f\"{media:.2f}\")\n",
        "print(acima)\n",
        "print(abaixo)"
      ],
      "metadata": {
        "id": "c80OqVi20ac_"
      },
      "execution_count": null,
      "outputs": []
    },
    {
      "cell_type": "code",
      "source": [
        "\n",
        "string_original = input(\"Digite uma string: \")\n",
        "\n",
        "string_invertida = string_original[::-1]\n",
        "\n",
        "print(f\"String invertida: {string_invertida}\")"
      ],
      "metadata": {
        "colab": {
          "base_uri": "https://localhost:8080/"
        },
        "id": "bJKlKl2JEi-4",
        "outputId": "e96a1b4c-4879-408b-8e39-f672b22493cd"
      },
      "execution_count": null,
      "outputs": [
        {
          "output_type": "stream",
          "name": "stdout",
          "text": [
            "Digite uma string: JANELA\n",
            "String invertida: ALENAJ\n"
          ]
        }
      ]
    },
    {
      "cell_type": "code",
      "source": [
        "\n",
        "string_original = input().strip()\n",
        "caracter1 = input().strip()\n",
        "caracter2 = input().strip()\n",
        "\n",
        "string_modificada = string_original.replace(caracter1, caracter2)\n",
        "\n",
        "print(string_modificada)"
      ],
      "metadata": {
        "colab": {
          "base_uri": "https://localhost:8080/"
        },
        "id": "XhmHPljAFffh",
        "outputId": "a62501f0-454c-4895-f64d-2041a5e63610"
      },
      "execution_count": null,
      "outputs": [
        {
          "output_type": "stream",
          "name": "stdout",
          "text": [
            "CARNAVAL\n",
            "A\n",
            "O\n",
            "CORNOVOL\n"
          ]
        }
      ]
    },
    {
      "cell_type": "code",
      "source": [
        "\n",
        "string = input().strip()\n",
        "caracter = input().strip()\n",
        "\n",
        "indice = string.find(caracter)\n",
        "\n",
        "print(indice)"
      ],
      "metadata": {
        "colab": {
          "base_uri": "https://localhost:8080/"
        },
        "id": "Gwn7e04OGXfl",
        "outputId": "d2b35137-14ba-4e77-ec92-4ab2e7b7cb07"
      },
      "execution_count": null,
      "outputs": [
        {
          "output_type": "stream",
          "name": "stdout",
          "text": [
            "MELANCIA\n",
            "E\n",
            "1\n"
          ]
        }
      ]
    },
    {
      "cell_type": "code",
      "source": [
        "\n",
        "string = input().strip()\n",
        "caracter = input().strip()\n",
        "\n",
        "indice = string.find(caracter)\n",
        "\n",
        "print(indice)"
      ],
      "metadata": {
        "colab": {
          "base_uri": "https://localhost:8080/"
        },
        "id": "WxSmiUfhHLkj",
        "outputId": "2ca84721-54a5-4b0a-e734-19329e31c018"
      },
      "execution_count": null,
      "outputs": [
        {
          "output_type": "stream",
          "name": "stdout",
          "text": [
            "CAJU\n",
            "E\n",
            "-1\n"
          ]
        }
      ]
    },
    {
      "cell_type": "code",
      "source": [
        "\n",
        "x = int(input())\n",
        "y = int(input())\n",
        "\n",
        "inicio = min(x, y)\n",
        "fim = max(x, y)\n",
        "\n",
        "for numero in range(inicio + 1, fim):\n",
        "\n",
        "    if numero % 5 == 2 or numero % 5 == 3:\n",
        "        print(numero)"
      ],
      "metadata": {
        "colab": {
          "base_uri": "https://localhost:8080/"
        },
        "id": "7wE_UhKQHmlU",
        "outputId": "cd5dffbb-20ec-44c5-c9d8-da79b67f7c9f"
      },
      "execution_count": null,
      "outputs": [
        {
          "output_type": "stream",
          "name": "stdout",
          "text": [
            "10\n",
            "18\n",
            "12\n",
            "13\n",
            "17\n"
          ]
        }
      ]
    },
    {
      "cell_type": "code",
      "source": [
        "\n",
        "n = int(input(\"Quantos números você deseja inserir? \"))\n",
        "\n",
        "numeros = []\n",
        "\n",
        "for i in range(n):\n",
        "    num = int(input(f\"Digite o {i+1}º número: \"))\n",
        "    numeros.append(num)\n",
        "\n",
        "# a) Imprime na ordem inversa\n",
        "print(\"\\na) Ordem inversa:\")\n",
        "print(numeros[::-1])\n",
        "\n",
        "# b) Imprime em ordem decrescente\n",
        "print(\"\\nb) Ordem decrescente:\")\n",
        "print(sorted(numeros, reverse=True))"
      ],
      "metadata": {
        "colab": {
          "base_uri": "https://localhost:8080/"
        },
        "id": "S4QlOZ3yISs8",
        "outputId": "3eb34dfc-b9ce-444a-806b-ca3f2b1ec9ed"
      },
      "execution_count": null,
      "outputs": [
        {
          "output_type": "stream",
          "name": "stdout",
          "text": [
            "Quantos números você deseja inserir? 5\n",
            "Digite o 1º número: 3\n",
            "Digite o 2º número: 1\n",
            "Digite o 3º número: 4\n",
            "Digite o 4º número: 2\n",
            "Digite o 5º número: 5\n",
            "\n",
            "a) Ordem inversa:\n",
            "[5, 2, 4, 1, 3]\n",
            "\n",
            "b) Ordem decrescente:\n",
            "[5, 4, 3, 2, 1]\n"
          ]
        }
      ]
    }
  ]
}